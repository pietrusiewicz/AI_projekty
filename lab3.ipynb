{
  "nbformat": 4,
  "nbformat_minor": 0,
  "metadata": {
    "colab": {
      "provenance": [],
      "authorship_tag": "ABX9TyMru8JoJT03K932X0CWSm9Q",
      "include_colab_link": true
    },
    "kernelspec": {
      "name": "python3",
      "display_name": "Python 3"
    },
    "language_info": {
      "name": "python"
    }
  },
  "cells": [
    {
      "cell_type": "markdown",
      "metadata": {
        "id": "view-in-github",
        "colab_type": "text"
      },
      "source": [
        "<a href=\"https://colab.research.google.com/github/arinardied/AI_lab/blob/main/lab3.ipynb\" target=\"_parent\"><img src=\"https://colab.research.google.com/assets/colab-badge.svg\" alt=\"Open In Colab\"/></a>"
      ]
    },
    {
      "cell_type": "code",
      "execution_count": 17,
      "metadata": {
        "id": "BqC1JsZHdyOV"
      },
      "outputs": [],
      "source": [
        "import numpy as np\n",
        "import tensorflow as tf\n",
        "import cv2\n",
        "import tensorflow_datasets as tfds"
      ]
    },
    {
      "cell_type": "code",
      "source": [
        "mnist_dataset, mnist_info = tfds.load(name='mnist', with_info=True, as_supervised=True)\n",
        "mnist_train, mnist_test = mnist_dataset['train'], mnist_dataset['test']\n",
        "num_validation_samples = 0.1 * mnist_info.splits['train'].num_examples\n",
        "num_validation_samples = tf.cast(num_validation_samples, tf.int64)\n",
        "num_test_samples = mnist_info.splits['test'].num_examples\n",
        "num_test_samples = tf.cast(num_test_samples, tf.int64)"
      ],
      "metadata": {
        "id": "v_vmBH4zePx9"
      },
      "execution_count": 18,
      "outputs": []
    },
    {
      "cell_type": "code",
      "source": [
        "def scale(image, label):\n",
        "    image = tf.cast(image, tf.float32)\n",
        "    image /= 255.\n",
        "    return image, label\n",
        "scaled_train_and_validation_data = mnist_train.map(scale)\n",
        "test_data = mnist_test.map(scale)"
      ],
      "metadata": {
        "id": "bo33dkKNe5ZN"
      },
      "execution_count": 19,
      "outputs": []
    },
    {
      "cell_type": "code",
      "source": [
        "BUFFER_SIZE = 1000\n",
        "shuffled_train_and_validation_data = scaled_train_and_validation_data.shuffle(BUFFER_SIZE)\n",
        "validation_data = shuffled_train_and_validation_data.take(num_validation_samples)\n",
        "train_data = shuffled_train_and_validation_data.skip(num_validation_samples)"
      ],
      "metadata": {
        "id": "3uFVGPXCfCxE"
      },
      "execution_count": 20,
      "outputs": []
    },
    {
      "cell_type": "code",
      "source": [
        "BATCH_SIZE = 100\n",
        "train_data = train_data.batch(BATCH_SIZE)\n",
        "validation_data = validation_data.batch(num_validation_samples)\n",
        "test_data = test_data.batch(num_test_samples)\n",
        "validation_inputs, validation_targets = next(iter(validation_data))\n",
        "print(validation_inputs.shape)\n",
        "print(validation_targets.shape)"
      ],
      "metadata": {
        "colab": {
          "base_uri": "https://localhost:8080/"
        },
        "id": "K9J1OFeifJhM",
        "outputId": "35181e34-fb5c-4858-c83d-b6e442ea1679"
      },
      "execution_count": 21,
      "outputs": [
        {
          "output_type": "stream",
          "name": "stdout",
          "text": [
            "(6000, 28, 28, 1)\n",
            "(6000,)\n"
          ]
        }
      ]
    },
    {
      "cell_type": "code",
      "source": [
        "input_size = 784\n",
        "output_size = 10\n",
        "hidden_layer_size = 50\n",
        "model = tf.keras.Sequential([\n",
        "    tf.keras.layers.Flatten(input_shape=(28, 28, 1)),\n",
        "    tf.keras.layers.Dense(hidden_layer_size, activation='relu'),\n",
        "    tf.keras.layers.Dense(hidden_layer_size, activation='relu'),\n",
        "    tf.keras.layers.Dense(output_size, activation='softmax')\n",
        "])\n",
        "model.compile(optimizer='adam', loss='sparse_categorical_crossentropy', metrics=['accuracy'])"
      ],
      "metadata": {
        "id": "_G1OMfiGfWy8"
      },
      "execution_count": 22,
      "outputs": []
    },
    {
      "cell_type": "code",
      "source": [
        "NUM_EPOCHS = 30\n",
        "early_stopping = tf.keras.callbacks.EarlyStopping(patience=2)\n",
        "model.fit(train_data,\n",
        "          epochs=NUM_EPOCHS,\n",
        "          callbacks=[early_stopping],\n",
        "          validation_data=(validation_inputs, validation_targets),\n",
        "          verbose=2)"
      ],
      "metadata": {
        "colab": {
          "base_uri": "https://localhost:8080/"
        },
        "id": "UeSUHyVOfwE1",
        "outputId": "37e3bd28-d778-450a-d77d-6b58d7a124fa"
      },
      "execution_count": 23,
      "outputs": [
        {
          "output_type": "stream",
          "name": "stdout",
          "text": [
            "Epoch 1/30\n",
            "540/540 - 8s - 14ms/step - accuracy: 0.8868 - loss: 0.4106 - val_accuracy: 0.9410 - val_loss: 0.2102\n",
            "Epoch 2/30\n",
            "540/540 - 5s - 9ms/step - accuracy: 0.9461 - loss: 0.1874 - val_accuracy: 0.9517 - val_loss: 0.1635\n",
            "Epoch 3/30\n",
            "540/540 - 4s - 7ms/step - accuracy: 0.9590 - loss: 0.1386 - val_accuracy: 0.9575 - val_loss: 0.1364\n",
            "Epoch 4/30\n",
            "540/540 - 5s - 9ms/step - accuracy: 0.9664 - loss: 0.1124 - val_accuracy: 0.9618 - val_loss: 0.1276\n",
            "Epoch 5/30\n",
            "540/540 - 5s - 9ms/step - accuracy: 0.9720 - loss: 0.0955 - val_accuracy: 0.9623 - val_loss: 0.1208\n",
            "Epoch 6/30\n",
            "540/540 - 4s - 7ms/step - accuracy: 0.9750 - loss: 0.0818 - val_accuracy: 0.9635 - val_loss: 0.1151\n",
            "Epoch 7/30\n",
            "540/540 - 4s - 7ms/step - accuracy: 0.9785 - loss: 0.0727 - val_accuracy: 0.9677 - val_loss: 0.1048\n",
            "Epoch 8/30\n",
            "540/540 - 5s - 9ms/step - accuracy: 0.9810 - loss: 0.0640 - val_accuracy: 0.9668 - val_loss: 0.1110\n",
            "Epoch 9/30\n",
            "540/540 - 4s - 7ms/step - accuracy: 0.9833 - loss: 0.0568 - val_accuracy: 0.9680 - val_loss: 0.1093\n"
          ]
        },
        {
          "output_type": "execute_result",
          "data": {
            "text/plain": [
              "<keras.src.callbacks.history.History at 0x7b9648dcd250>"
            ]
          },
          "metadata": {},
          "execution_count": 23
        }
      ]
    },
    {
      "cell_type": "code",
      "source": [
        "test_loss, test_accuracy = model.evaluate(test_data)\n",
        "print('Test loss: {0:.2f}. Test accuracy: {1:.2f}%'.format(test_loss, test_accuracy*100.))"
      ],
      "metadata": {
        "colab": {
          "base_uri": "https://localhost:8080/"
        },
        "id": "CFC1jJ0Df74s",
        "outputId": "6292eed8-0adc-4253-a211-5822c848b2fd"
      },
      "execution_count": 12,
      "outputs": [
        {
          "output_type": "stream",
          "name": "stdout",
          "text": [
            "\u001b[1m1/1\u001b[0m \u001b[32m━━━━━━━━━━━━━━━━━━━━\u001b[0m\u001b[37m\u001b[0m \u001b[1m1s\u001b[0m 1s/step - accuracy: 0.9771 - loss: 0.0777\n",
            "Test loss: 0.08. Test accuracy: 97.71%\n"
          ]
        }
      ]
    },
    {
      "cell_type": "code",
      "source": [
        "img = cv2.imread('/content/cyfra.png', cv2.IMREAD_GRAYSCALE)\n",
        "img = cv2.resize(img, (28, 28))\n",
        "img = cv2.bitwise_not(img)\n",
        "img = img / 255.0\n",
        "img = img.reshape(1, 28, 28, 1)\n",
        "prediction = model.predict(img)\n",
        "predicted_label = np.argmax(prediction)\n",
        "print(f'Predykcja modelu: {predicted_label}')"
      ],
      "metadata": {
        "colab": {
          "base_uri": "https://localhost:8080/"
        },
        "id": "X496-_8ag-Y1",
        "outputId": "43b527c0-4454-4af0-8bf4-ed4f6564ba70"
      },
      "execution_count": 16,
      "outputs": [
        {
          "output_type": "stream",
          "name": "stdout",
          "text": [
            "\u001b[1m1/1\u001b[0m \u001b[32m━━━━━━━━━━━━━━━━━━━━\u001b[0m\u001b[37m\u001b[0m \u001b[1m0s\u001b[0m 36ms/step\n",
            "Predykcja modelu: 7\n"
          ]
        }
      ]
    }
  ]
}