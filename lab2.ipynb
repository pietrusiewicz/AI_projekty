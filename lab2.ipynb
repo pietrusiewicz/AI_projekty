{
  "nbformat": 4,
  "nbformat_minor": 0,
  "metadata": {
    "colab": {
      "provenance": []
    },
    "kernelspec": {
      "name": "python3",
      "display_name": "Python 3"
    },
    "language_info": {
      "name": "python"
    }
  },
  "cells": [
    {
      "cell_type": "code",
      "execution_count": 1,
      "metadata": {
        "colab": {
          "base_uri": "https://localhost:8080/"
        },
        "id": "XIiIYgJGmHhl",
        "outputId": "de6c720c-cbb6-441c-a7d3-d1c4907b0058"
      },
      "outputs": [
        {
          "output_type": "stream",
          "name": "stdout",
          "text": [
            "2.18.0\n"
          ]
        }
      ],
      "source": [
        "import tensorflow as tf\n",
        "import numpy as np\n",
        "import matplotlib.pyplot as plt\n",
        "from mpl_toolkits.mplot3d import Axes3D\n",
        "\n",
        "print(tf.__version__)\n"
      ]
    },
    {
      "cell_type": "code",
      "source": [
        "from ast import mod\n",
        "training_data = np.load('TF_intro.npz')\n",
        "input_size = 2\n",
        "output_size = 1"
      ],
      "metadata": {
        "id": "ytuWtCrMm82l"
      },
      "execution_count": 6,
      "outputs": []
    },
    {
      "cell_type": "code",
      "source": [
        "model = tf.keras.Sequential([\n",
        "    tf.keras.layers.Dense(5, activation=\"sigmoid\"),\n",
        "    tf.keras.layers.Dense(5, activation=\"sigmoid\"),\n",
        "    tf.keras.layers.Dense(output_size)\n",
        "])\n",
        "model.compile(optimizer=tf.keras.optimizers.RMSprop(learning_rate=0.01),\n",
        "              loss=tf.keras.losses.MeanAbsoluteError())\n",
        "model.fit(training_data['inputs'], training_data['targets'], epochs=100, verbose=2)"
      ],
      "metadata": {
        "colab": {
          "base_uri": "https://localhost:8080/"
        },
        "id": "0akYyUAno6sm",
        "outputId": "1e9dad42-425a-4ca5-a260-8a58ea3d30e1"
      },
      "execution_count": 16,
      "outputs": [
        {
          "output_type": "stream",
          "name": "stdout",
          "text": [
            "Epoch 1/100\n",
            "3125/3125 - 6s - 2ms/step - loss: 41.4418\n",
            "Epoch 2/100\n",
            "3125/3125 - 5s - 1ms/step - loss: 11.7720\n",
            "Epoch 3/100\n",
            "3125/3125 - 6s - 2ms/step - loss: 4.9326\n",
            "Epoch 4/100\n",
            "3125/3125 - 5s - 1ms/step - loss: 3.1089\n",
            "Epoch 5/100\n",
            "3125/3125 - 5s - 2ms/step - loss: 2.3849\n",
            "Epoch 6/100\n",
            "3125/3125 - 5s - 2ms/step - loss: 2.0155\n",
            "Epoch 7/100\n",
            "3125/3125 - 5s - 1ms/step - loss: 1.7979\n",
            "Epoch 8/100\n",
            "3125/3125 - 6s - 2ms/step - loss: 1.6544\n",
            "Epoch 9/100\n",
            "3125/3125 - 10s - 3ms/step - loss: 1.5624\n",
            "Epoch 10/100\n",
            "3125/3125 - 5s - 2ms/step - loss: 1.4871\n",
            "Epoch 11/100\n",
            "3125/3125 - 5s - 2ms/step - loss: 1.4310\n",
            "Epoch 12/100\n",
            "3125/3125 - 5s - 2ms/step - loss: 1.3798\n",
            "Epoch 13/100\n",
            "3125/3125 - 5s - 1ms/step - loss: 1.3510\n",
            "Epoch 14/100\n",
            "3125/3125 - 5s - 2ms/step - loss: 1.3143\n",
            "Epoch 15/100\n",
            "3125/3125 - 5s - 2ms/step - loss: 1.2962\n",
            "Epoch 16/100\n",
            "3125/3125 - 4s - 1ms/step - loss: 1.2775\n",
            "Epoch 17/100\n",
            "3125/3125 - 5s - 2ms/step - loss: 1.2560\n",
            "Epoch 18/100\n",
            "3125/3125 - 9s - 3ms/step - loss: 1.2473\n",
            "Epoch 19/100\n",
            "3125/3125 - 5s - 2ms/step - loss: 1.2280\n",
            "Epoch 20/100\n",
            "3125/3125 - 10s - 3ms/step - loss: 1.2263\n",
            "Epoch 21/100\n",
            "3125/3125 - 5s - 1ms/step - loss: 1.2138\n",
            "Epoch 22/100\n",
            "3125/3125 - 5s - 1ms/step - loss: 1.2063\n",
            "Epoch 23/100\n",
            "3125/3125 - 5s - 2ms/step - loss: 1.2070\n",
            "Epoch 24/100\n",
            "3125/3125 - 5s - 1ms/step - loss: 1.2012\n",
            "Epoch 25/100\n",
            "3125/3125 - 6s - 2ms/step - loss: 1.1971\n",
            "Epoch 26/100\n",
            "3125/3125 - 9s - 3ms/step - loss: 1.1940\n",
            "Epoch 27/100\n",
            "3125/3125 - 6s - 2ms/step - loss: 1.1897\n",
            "Epoch 28/100\n",
            "3125/3125 - 4s - 1ms/step - loss: 1.1853\n",
            "Epoch 29/100\n",
            "3125/3125 - 5s - 2ms/step - loss: 1.1868\n",
            "Epoch 30/100\n",
            "3125/3125 - 9s - 3ms/step - loss: 1.1848\n",
            "Epoch 31/100\n",
            "3125/3125 - 6s - 2ms/step - loss: 1.1810\n",
            "Epoch 32/100\n",
            "3125/3125 - 10s - 3ms/step - loss: 1.1801\n",
            "Epoch 33/100\n",
            "3125/3125 - 9s - 3ms/step - loss: 1.1825\n",
            "Epoch 34/100\n",
            "3125/3125 - 5s - 2ms/step - loss: 1.1827\n",
            "Epoch 35/100\n",
            "3125/3125 - 10s - 3ms/step - loss: 1.1783\n",
            "Epoch 36/100\n",
            "3125/3125 - 5s - 2ms/step - loss: 1.1832\n",
            "Epoch 37/100\n",
            "3125/3125 - 5s - 2ms/step - loss: 1.1858\n",
            "Epoch 38/100\n",
            "3125/3125 - 6s - 2ms/step - loss: 1.1756\n",
            "Epoch 39/100\n",
            "3125/3125 - 10s - 3ms/step - loss: 1.1806\n",
            "Epoch 40/100\n",
            "3125/3125 - 10s - 3ms/step - loss: 1.1744\n",
            "Epoch 41/100\n",
            "3125/3125 - 6s - 2ms/step - loss: 1.1784\n",
            "Epoch 42/100\n",
            "3125/3125 - 10s - 3ms/step - loss: 1.1741\n",
            "Epoch 43/100\n",
            "3125/3125 - 9s - 3ms/step - loss: 1.1729\n",
            "Epoch 44/100\n",
            "3125/3125 - 5s - 2ms/step - loss: 1.1774\n",
            "Epoch 45/100\n",
            "3125/3125 - 10s - 3ms/step - loss: 1.1754\n",
            "Epoch 46/100\n",
            "3125/3125 - 5s - 2ms/step - loss: 1.1768\n",
            "Epoch 47/100\n",
            "3125/3125 - 5s - 2ms/step - loss: 1.1742\n",
            "Epoch 48/100\n",
            "3125/3125 - 5s - 2ms/step - loss: 1.1760\n",
            "Epoch 49/100\n",
            "3125/3125 - 10s - 3ms/step - loss: 1.1749\n",
            "Epoch 50/100\n",
            "3125/3125 - 5s - 2ms/step - loss: 1.1767\n",
            "Epoch 51/100\n",
            "3125/3125 - 5s - 1ms/step - loss: 1.1761\n",
            "Epoch 52/100\n",
            "3125/3125 - 5s - 2ms/step - loss: 1.1767\n",
            "Epoch 53/100\n",
            "3125/3125 - 9s - 3ms/step - loss: 1.1784\n",
            "Epoch 54/100\n",
            "3125/3125 - 5s - 2ms/step - loss: 1.1701\n",
            "Epoch 55/100\n",
            "3125/3125 - 5s - 2ms/step - loss: 1.1769\n",
            "Epoch 56/100\n",
            "3125/3125 - 6s - 2ms/step - loss: 1.1746\n",
            "Epoch 57/100\n",
            "3125/3125 - 5s - 1ms/step - loss: 1.1733\n",
            "Epoch 58/100\n",
            "3125/3125 - 5s - 2ms/step - loss: 1.1686\n",
            "Epoch 59/100\n",
            "3125/3125 - 5s - 2ms/step - loss: 1.1744\n",
            "Epoch 60/100\n",
            "3125/3125 - 5s - 1ms/step - loss: 1.1756\n",
            "Epoch 61/100\n",
            "3125/3125 - 5s - 2ms/step - loss: 1.1698\n",
            "Epoch 62/100\n",
            "3125/3125 - 5s - 1ms/step - loss: 1.1689\n",
            "Epoch 63/100\n",
            "3125/3125 - 5s - 1ms/step - loss: 1.1705\n",
            "Epoch 64/100\n",
            "3125/3125 - 5s - 2ms/step - loss: 1.1689\n",
            "Epoch 65/100\n",
            "3125/3125 - 10s - 3ms/step - loss: 1.1719\n",
            "Epoch 66/100\n",
            "3125/3125 - 10s - 3ms/step - loss: 1.1717\n",
            "Epoch 67/100\n",
            "3125/3125 - 5s - 2ms/step - loss: 1.1688\n",
            "Epoch 68/100\n",
            "3125/3125 - 4s - 1ms/step - loss: 1.1728\n",
            "Epoch 69/100\n",
            "3125/3125 - 6s - 2ms/step - loss: 1.1722\n",
            "Epoch 70/100\n",
            "3125/3125 - 5s - 1ms/step - loss: 1.1720\n",
            "Epoch 71/100\n",
            "3125/3125 - 4s - 1ms/step - loss: 1.1706\n",
            "Epoch 72/100\n",
            "3125/3125 - 6s - 2ms/step - loss: 1.1720\n",
            "Epoch 73/100\n",
            "3125/3125 - 4s - 1ms/step - loss: 1.1698\n",
            "Epoch 74/100\n",
            "3125/3125 - 6s - 2ms/step - loss: 1.1713\n",
            "Epoch 75/100\n",
            "3125/3125 - 9s - 3ms/step - loss: 1.1698\n",
            "Epoch 76/100\n",
            "3125/3125 - 5s - 2ms/step - loss: 1.1701\n",
            "Epoch 77/100\n",
            "3125/3125 - 5s - 1ms/step - loss: 1.1716\n",
            "Epoch 78/100\n",
            "3125/3125 - 5s - 2ms/step - loss: 1.1691\n",
            "Epoch 79/100\n",
            "3125/3125 - 5s - 2ms/step - loss: 1.1665\n",
            "Epoch 80/100\n",
            "3125/3125 - 5s - 2ms/step - loss: 1.1692\n",
            "Epoch 81/100\n",
            "3125/3125 - 6s - 2ms/step - loss: 1.1669\n",
            "Epoch 82/100\n",
            "3125/3125 - 5s - 1ms/step - loss: 1.1727\n",
            "Epoch 83/100\n",
            "3125/3125 - 6s - 2ms/step - loss: 1.1693\n",
            "Epoch 84/100\n",
            "3125/3125 - 5s - 2ms/step - loss: 1.1677\n",
            "Epoch 85/100\n",
            "3125/3125 - 5s - 2ms/step - loss: 1.1663\n",
            "Epoch 86/100\n",
            "3125/3125 - 5s - 2ms/step - loss: 1.1676\n",
            "Epoch 87/100\n",
            "3125/3125 - 10s - 3ms/step - loss: 1.1680\n",
            "Epoch 88/100\n",
            "3125/3125 - 5s - 2ms/step - loss: 1.1694\n",
            "Epoch 89/100\n",
            "3125/3125 - 5s - 2ms/step - loss: 1.1660\n",
            "Epoch 90/100\n",
            "3125/3125 - 6s - 2ms/step - loss: 1.1650\n",
            "Epoch 91/100\n",
            "3125/3125 - 10s - 3ms/step - loss: 1.1629\n",
            "Epoch 92/100\n",
            "3125/3125 - 5s - 2ms/step - loss: 1.1645\n",
            "Epoch 93/100\n",
            "3125/3125 - 5s - 1ms/step - loss: 1.1611\n",
            "Epoch 94/100\n",
            "3125/3125 - 6s - 2ms/step - loss: 1.1668\n",
            "Epoch 95/100\n",
            "3125/3125 - 5s - 1ms/step - loss: 1.1627\n",
            "Epoch 96/100\n",
            "3125/3125 - 6s - 2ms/step - loss: 1.1699\n",
            "Epoch 97/100\n",
            "3125/3125 - 5s - 2ms/step - loss: 1.1617\n",
            "Epoch 98/100\n",
            "3125/3125 - 5s - 2ms/step - loss: 1.1602\n",
            "Epoch 99/100\n",
            "3125/3125 - 6s - 2ms/step - loss: 1.1639\n",
            "Epoch 100/100\n",
            "3125/3125 - 5s - 1ms/step - loss: 1.1616\n"
          ]
        },
        {
          "output_type": "execute_result",
          "data": {
            "text/plain": [
              "<keras.src.callbacks.history.History at 0x78ffed8066d0>"
            ]
          },
          "metadata": {},
          "execution_count": 16
        }
      ]
    },
    {
      "cell_type": "code",
      "source": [
        "model.layers[0].get_weights()"
      ],
      "metadata": {
        "colab": {
          "base_uri": "https://localhost:8080/"
        },
        "id": "8lVzcuXQpsJ0",
        "outputId": "da3f20a3-3c1f-4b31-a7e6-b4a85926a0e5"
      },
      "execution_count": 17,
      "outputs": [
        {
          "output_type": "execute_result",
          "data": {
            "text/plain": [
              "[array([[-0.8819977 ,  0.78845704,  0.7290715 ,  0.78419936, -0.900282  ],\n",
              "        [-0.47815406,  0.41197538,  0.4018242 ,  0.41714332, -0.48260394]],\n",
              "       dtype=float32),\n",
              " array([ 6.5894094 , 11.473076  , -0.96617645,  3.9543753 , 12.545948  ],\n",
              "       dtype=float32)]"
            ]
          },
          "metadata": {},
          "execution_count": 17
        }
      ]
    },
    {
      "cell_type": "code",
      "source": [
        "plt.plot(np.squeeze(model.predict(training_data['inputs'])),\n",
        "         np.squeeze(training_data['targets']), color='orange')\n",
        "plt.xlabel('outputs')\n",
        "plt.ylabel('targets')\n",
        "plt.show()"
      ],
      "metadata": {
        "colab": {
          "base_uri": "https://localhost:8080/",
          "height": 466
        },
        "id": "ej5Q2h2SqToM",
        "outputId": "4a02f3e5-5925-4f42-d77d-38cc46c0ea89"
      },
      "execution_count": 18,
      "outputs": [
        {
          "output_type": "stream",
          "name": "stdout",
          "text": [
            "\u001b[1m3125/3125\u001b[0m \u001b[32m━━━━━━━━━━━━━━━━━━━━\u001b[0m\u001b[37m\u001b[0m \u001b[1m3s\u001b[0m 1ms/step\n"
          ]
        },
        {
          "output_type": "display_data",
          "data": {
            "text/plain": [
              "<Figure size 640x480 with 1 Axes>"
            ],
            "image/png": "[encoded data removed]"
          },
          "metadata": {}
        }
      ]
    }
  ]
}